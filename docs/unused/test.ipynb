{
 "cells": [
  {
   "cell_type": "code",
   "execution_count": 1,
   "metadata": {},
   "outputs": [],
   "source": [
    "import numpy as np\n",
    "def arrayIndexes(shape):\n",
    "    \"\"\"\n",
    "    Get the index of each element of an n-dimensional array. Each index is returned\n",
    "    as a tuple of integers, with the last dimension being iterated over fastest.\n",
    "    This function has similar behaviour to 'list(np.ndindex(shape))'. The\n",
    "    difference is that 'arrayIndexes' uses negative integers for the second half of\n",
    "    each dimension.\n",
    "    This helps to avoid issues when dealing with neighbours\n",
    "    (no need to use a cycler or a remainder).\n",
    "\n",
    "    :param shape: a tuple of integers; the shape of an n-dimensional array.\n",
    "    :return: A list of tuples of integers. The list will contain 'np.prod(shape)' tuples\n",
    "    and each tuple will contain 'len(shape)' integers.\n",
    "    \"\"\"\n",
    "\n",
    "    # each line has a comment afterwards showing what is created\n",
    "    # specifically for 'shape = (3, 4, 5)'\n",
    "\n",
    "    x = [\n",
    "        np.concatenate((\n",
    "            np.arange(0, (n + 1) // 2),\n",
    "            np.arange(-(n - 1) // 2, 0)\n",
    "        ))\n",
    "        for n in shape\n",
    "    ]\n",
    "    # [array([ 0,  1, -1]), array([ 0,  1, -2, -1]), array([ 0,  1,  2, -2, -1])]\n",
    "\n",
    "    # each element of the above arrays must be repeated 'each' times\n",
    "    each = np.cumprod((1,) + shape[:0:-1])[::-1]\n",
    "    # array([20,  5,  1])\n",
    "\n",
    "    # after repeating the array with 'each',\n",
    "    # the entire array must be repeated 'times' times\n",
    "    times = np.prod(shape) // (shape * each)\n",
    "    # array([ 1,  3, 12])\n",
    "\n",
    "    return list(zip(*[\n",
    "        np.concatenate([xx.repeat(eeach)] * ttimes)\n",
    "        for xx, eeach, ttimes in zip(x, each, times)\n",
    "    ]))\n",
    "    \n",
    "def evolve(self, updates_per_cell=1):\n",
    "    \"\"\"\n",
    "    Evolve the state of a cellular automata.\n",
    "    'evolve' will sequentially update each cell (lexically ordered), and will\n",
    "    update the lattice 'updates_per_cell' number of times.\n",
    "    :param updates_per_cell: number of times to update each cell while updating the whole lattice.\n",
    "    \"\"\"\n",
    "    upd = self.update\n",
    "    emp = self.empty_fun()\n",
    "\n",
    "    new = self.city.lattice\n",
    "    indexes = self.arrayIndexes(new.shape)\n",
    "    for _ in range(updates_per_cell):\n",
    "        old = new\n",
    "        new = emp()\n",
    "        for idx in indexes:\n",
    "            upd(old, new, idx)\n",
    "    return\n",
    "\n",
    "def empty_fun(self):\n",
    "    row = self.mould_shape[0]\n",
    "    col = self.mould_shape[1]\n",
    "    if self.mould_shape[0] < self.city.lattice.shape[0] - 50:\n",
    "        row += 50\n",
    "    if self.mould_shape[1] < self.city.lattice.shape[1] - 50:\n",
    "        col += 50\n",
    "    return lambda: np.empty((row, col), object)"
   ]
  },
  {
   "cell_type": "code",
   "execution_count": 2,
   "metadata": {},
   "outputs": [
    {
     "data": {
      "text/plain": [
       "(3, 3)"
      ]
     },
     "execution_count": 2,
     "metadata": {},
     "output_type": "execute_result"
    }
   ],
   "source": [
    "a = np.array([[11,22,33], [44,55,66], [77,88,99]])\n",
    "b = np.array([[11,22,33], [44,55,66], [77,88,99], [23, 34, 45]])\n",
    "a.shape"
   ]
  },
  {
   "cell_type": "code",
   "execution_count": 3,
   "metadata": {},
   "outputs": [
    {
     "name": "stdout",
     "output_type": "stream",
     "text": [
      "11\n",
      "33\n",
      "23\n",
      "45\n"
     ]
    }
   ],
   "source": [
    "x = arrayIndexes((2,2))\n",
    "for i in x:\n",
    "    print(b[i])"
   ]
  },
  {
   "cell_type": "code",
   "execution_count": 4,
   "metadata": {},
   "outputs": [
    {
     "name": "stdout",
     "output_type": "stream",
     "text": [
      "11\n",
      "22\n",
      "44\n",
      "55\n"
     ]
    }
   ],
   "source": [
    "for i in np.ndindex((2,2)):\n",
    "    print(b[i])"
   ]
  },
  {
   "cell_type": "code",
   "execution_count": 5,
   "metadata": {},
   "outputs": [
    {
     "data": {
      "text/plain": [
       "False"
      ]
     },
     "execution_count": 5,
     "metadata": {},
     "output_type": "execute_result"
    }
   ],
   "source": [
    "(3,3) in (4,4)"
   ]
  },
  {
   "cell_type": "code",
   "execution_count": 6,
   "metadata": {},
   "outputs": [
    {
     "data": {
      "text/plain": [
       "array([66, 66])"
      ]
     },
     "execution_count": 6,
     "metadata": {},
     "output_type": "execute_result"
    }
   ],
   "source": [
    "a[(1,1),(2,2)]"
   ]
  },
  {
   "cell_type": "code",
   "execution_count": 7,
   "metadata": {},
   "outputs": [
    {
     "data": {
      "text/plain": [
       "False"
      ]
     },
     "execution_count": 7,
     "metadata": {},
     "output_type": "execute_result"
    }
   ],
   "source": [
    "class Test:\n",
    "    def __init__(self) -> None:\n",
    "        pass\n",
    "\n",
    "class Test2:\n",
    "    def __init__(self) -> None:\n",
    "        pass\n",
    "test = Test()\n",
    "\n",
    "isinstance(test, Test2)"
   ]
  },
  {
   "cell_type": "code",
   "execution_count": 8,
   "metadata": {},
   "outputs": [
    {
     "data": {
      "text/plain": [
       "[(0, 0), (1, 1), (2, 2), (3, 3), (3, 4)]"
      ]
     },
     "execution_count": 8,
     "metadata": {},
     "output_type": "execute_result"
    }
   ],
   "source": [
    "import collections\n",
    "goal = \"g\"\n",
    "grid = [\"12345\",\n",
    "        \"67890\",\n",
    "        \"qwert\",\n",
    "        \"asdfg\",\n",
    "        \"zxcvb\"]\n",
    "width, height = 5, 5\n",
    "def bfs(grid, start):\n",
    "    queue = collections.deque([[start]])\n",
    "    seen = set([start])\n",
    "    while queue:\n",
    "        path = queue.popleft()\n",
    "        x, y = path[-1]\n",
    "        if grid[x][y] == goal:\n",
    "            return path\n",
    "        for x2, y2 in ((x-1,y-1), (x+1,y-1), (x-1,y+1), (x+1,y+1), (x-1, y), (x+1, y), (x, y-1), (x, y+1)):\n",
    "            if 0 <= x2 < width and 0 <= y2 < height and (x2, y2) not in seen:\n",
    "                queue.append(path + [(x2, y2)])\n",
    "                seen.add((x2, y2))\n",
    "\n",
    "path = bfs(grid, (0, 0))\n",
    "path"
   ]
  },
  {
   "cell_type": "code",
   "execution_count": 9,
   "metadata": {},
   "outputs": [],
   "source": [
    "# a = [[1,1],[2,2], [3,3]]\n",
    "a = np.empty((5,5))\n",
    "a = np.zeros_like(a)"
   ]
  },
  {
   "cell_type": "code",
   "execution_count": 10,
   "metadata": {},
   "outputs": [],
   "source": [
    "a[(1,1)] = 1"
   ]
  },
  {
   "cell_type": "code",
   "execution_count": 11,
   "metadata": {},
   "outputs": [
    {
     "data": {
      "text/plain": [
       "array([[0., 0., 0., 0., 0.],\n",
       "       [0., 1., 0., 0., 0.],\n",
       "       [0., 1., 0., 0., 0.],\n",
       "       [0., 0., 0., 0., 0.],\n",
       "       [0., 0., 0., 0., 0.]])"
      ]
     },
     "execution_count": 11,
     "metadata": {},
     "output_type": "execute_result"
    }
   ],
   "source": [
    "a[(2,1)] = 1\n",
    "a"
   ]
  },
  {
   "cell_type": "code",
   "execution_count": 6,
   "metadata": {},
   "outputs": [
    {
     "data": {
      "image/png": "[encoded data removed]",
      "text/plain": [
       "<Figure size 750x350 with 1 Axes>"
      ]
     },
     "metadata": {},
     "output_type": "display_data"
    }
   ],
   "source": [
    "import numpy as np\n",
    "import matplotlib.pyplot as plt\n",
    "\n",
    "x = [5, 4, 1, 4, 5]\n",
    "\n",
    "\n",
    "plt.title(\"Line graph\")\n",
    "plt.plot(x, color=\"red\")\n",
    "\n",
    "plt.show()"
   ]
  },
  {
   "cell_type": "code",
   "execution_count": null,
   "metadata": {},
   "outputs": [],
   "source": []
  }
 ],
 "metadata": {
  "kernelspec": {
   "display_name": "Python 3.10.6 ('slime')",
   "language": "python",
   "name": "python3"
  },
  "language_info": {
   "codemirror_mode": {
    "name": "ipython",
    "version": 3
   },
   "file_extension": ".py",
   "mimetype": "text/x-python",
   "name": "python",
   "nbconvert_exporter": "python",
   "pygments_lexer": "ipython3",
   "version": "3.10.6"
  },
  "orig_nbformat": 4,
  "vscode": {
   "interpreter": {
    "hash": "86ca1d4eef2403ef14dc1b66f183a2cdea05998cf956d8396dbd0ed12de77491"
   }
  }
 },
 "nbformat": 4,
 "nbformat_minor": 2
}